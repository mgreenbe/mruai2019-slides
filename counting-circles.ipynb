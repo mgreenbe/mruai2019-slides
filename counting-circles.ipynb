{
 "cells": [
  {
   "cell_type": "code",
   "execution_count": 1,
   "metadata": {},
   "outputs": [],
   "source": [
    "import tensorflow as tf\n",
    "from matplotlib import pyplot as plt\n",
    "import numpy as np\n",
    "from tensorflow.keras import Sequential\n",
    "from tensorflow.keras.layers import Dense, Flatten, Input"
   ]
  },
  {
   "cell_type": "code",
   "execution_count": 5,
   "metadata": {},
   "outputs": [],
   "source": [
    "def get_centers(n):\n",
    "    return np.random.uniform(size=(n, 2))\n",
    "\n",
    "def get_radii(n, total_area=0.1):\n",
    "    x = np.random.uniform(size=n-1)\n",
    "    x.sort()\n",
    "    x = np.concatenate([[0], x, [1]])\n",
    "    areas = total_area*np.diff(x)\n",
    "    return np.sqrt(areas/np.pi)\n",
    "    \n",
    "def get_circles(n, x, y, total_area=0.2, min_sep=0.01):\n",
    "    centers = get_centers(5)\n",
    "    radii = get_radii(5, total_area=total_area)\n",
    "    for i in range(1000):\n",
    "        centers = get_centers(n)\n",
    "        radii = get_radii(n)\n",
    "        ps = centers[:,0].reshape((-1, 1))\n",
    "        qs = centers[:,1].reshape((1, -1))\n",
    "        rs = radii.reshape((-1, 1))\n",
    "        if np.all((ps - ps.T)**2 + (qs - qs.T)**2 > (rs + rs.T + min_sep)**2 - 4*np.identity(n)):\n",
    "            z = [(x - p)**2 + (y - q)**2 < r**2 for ((p, q), r) in zip(centers, radii)]\n",
    "            return np.any(np.stack(z, axis=0), axis=0)\n",
    "    raise RuntimeError(\"Couldn't find a good collection of circles.\")"
   ]
  },
  {
   "cell_type": "code",
   "execution_count": 21,
   "metadata": {},
   "outputs": [],
   "source": [
    "t = np.linspace(0, 1, 28)\n",
    "X, Y = np.meshgrid(t, t)\n",
    "y_train = np.random.randint(1, 21, size=(10000,))\n",
    "x_train = 1.0*np.stack([get_circles(n, X, Y) for n in y_train], axis=0)\n",
    "y_test = np.random.randint(1, 21, size=(1000,))\n",
    "x_test = 1.0*np.stack([get_circles(n, X, Y) for n in y_test], axis=0)"
   ]
  },
  {
   "cell_type": "code",
   "execution_count": 23,
   "metadata": {},
   "outputs": [],
   "source": [
    "model = Sequential([Input((28, 28)), Flatten(), Dense(128, activation=\"relu\"), Dense(128, activation=\"relu\"), Dense(1, activation=\"relu\")])"
   ]
  },
  {
   "cell_type": "code",
   "execution_count": 24,
   "metadata": {},
   "outputs": [],
   "source": [
    "model.compile(loss=\"mse\", optimizer=\"adam\")"
   ]
  },
  {
   "cell_type": "code",
   "execution_count": 32,
   "metadata": {},
   "outputs": [
    {
     "name": "stdout",
     "output_type": "stream",
     "text": [
      "Train on 10000 samples, validate on 1000 samples\n",
      "Epoch 1/100\n",
      "10000/10000 [==============================] - 0s 41us/sample - loss: 0.8567 - val_loss: 13.7039\n",
      "Epoch 2/100\n",
      "10000/10000 [==============================] - 0s 39us/sample - loss: 0.9378 - val_loss: 13.9355\n",
      "Epoch 3/100\n",
      "10000/10000 [==============================] - 0s 40us/sample - loss: 0.9172 - val_loss: 13.0101\n",
      "Epoch 4/100\n",
      "10000/10000 [==============================] - 0s 39us/sample - loss: 0.9233 - val_loss: 13.4925\n",
      "Epoch 5/100\n",
      "10000/10000 [==============================] - 0s 40us/sample - loss: 0.8829 - val_loss: 12.9507\n",
      "Epoch 6/100\n",
      "10000/10000 [==============================] - 0s 40us/sample - loss: 0.7812 - val_loss: 13.2445\n",
      "Epoch 7/100\n",
      "10000/10000 [==============================] - 0s 40us/sample - loss: 0.7030 - val_loss: 12.7889\n",
      "Epoch 8/100\n",
      "10000/10000 [==============================] - 0s 40us/sample - loss: 0.7179 - val_loss: 12.5698\n",
      "Epoch 9/100\n",
      "10000/10000 [==============================] - 0s 40us/sample - loss: 0.7248 - val_loss: 13.0011\n",
      "Epoch 10/100\n",
      "10000/10000 [==============================] - 0s 40us/sample - loss: 0.7132 - val_loss: 13.4867\n",
      "Epoch 11/100\n",
      "10000/10000 [==============================] - 0s 40us/sample - loss: 0.6847 - val_loss: 13.0813\n",
      "Epoch 12/100\n",
      "10000/10000 [==============================] - 0s 40us/sample - loss: 0.5949 - val_loss: 12.6825\n",
      "Epoch 13/100\n",
      "10000/10000 [==============================] - 0s 40us/sample - loss: 0.5837 - val_loss: 13.1320\n",
      "Epoch 14/100\n",
      "10000/10000 [==============================] - 0s 40us/sample - loss: 0.6248 - val_loss: 13.1669\n",
      "Epoch 15/100\n",
      "10000/10000 [==============================] - 0s 41us/sample - loss: 0.6537 - val_loss: 12.7203\n",
      "Epoch 16/100\n",
      "10000/10000 [==============================] - 0s 40us/sample - loss: 0.5772 - val_loss: 13.0674\n",
      "Epoch 17/100\n",
      "10000/10000 [==============================] - 0s 41us/sample - loss: 0.5287 - val_loss: 12.8158\n",
      "Epoch 18/100\n",
      "10000/10000 [==============================] - 0s 40us/sample - loss: 0.5188 - val_loss: 13.0427\n",
      "Epoch 19/100\n",
      "10000/10000 [==============================] - 0s 40us/sample - loss: 0.4580 - val_loss: 12.4382\n",
      "Epoch 20/100\n",
      "10000/10000 [==============================] - 0s 40us/sample - loss: 0.4336 - val_loss: 12.6857\n",
      "Epoch 21/100\n",
      "10000/10000 [==============================] - 0s 40us/sample - loss: 0.4978 - val_loss: 12.3359\n",
      "Epoch 22/100\n",
      "10000/10000 [==============================] - 0s 40us/sample - loss: 0.5413 - val_loss: 12.7796\n",
      "Epoch 23/100\n",
      "10000/10000 [==============================] - 0s 41us/sample - loss: 0.5635 - val_loss: 12.9670\n",
      "Epoch 24/100\n",
      "10000/10000 [==============================] - 0s 40us/sample - loss: 0.5288 - val_loss: 13.6418\n",
      "Epoch 25/100\n",
      "10000/10000 [==============================] - 0s 39us/sample - loss: 0.4617 - val_loss: 12.4018\n",
      "Epoch 26/100\n",
      "10000/10000 [==============================] - 0s 40us/sample - loss: 0.3983 - val_loss: 12.5177\n",
      "Epoch 27/100\n",
      "10000/10000 [==============================] - 0s 40us/sample - loss: 0.3937 - val_loss: 12.3610\n",
      "Epoch 28/100\n",
      "10000/10000 [==============================] - 0s 39us/sample - loss: 0.3714 - val_loss: 12.5451\n",
      "Epoch 29/100\n",
      "10000/10000 [==============================] - 0s 39us/sample - loss: 0.3913 - val_loss: 12.7132\n",
      "Epoch 30/100\n",
      "10000/10000 [==============================] - 0s 39us/sample - loss: 0.3816 - val_loss: 12.4003\n",
      "Epoch 31/100\n",
      "10000/10000 [==============================] - 0s 40us/sample - loss: 0.3900 - val_loss: 12.5584\n",
      "Epoch 32/100\n",
      "10000/10000 [==============================] - 0s 40us/sample - loss: 0.3769 - val_loss: 12.2562\n",
      "Epoch 33/100\n",
      "10000/10000 [==============================] - 0s 41us/sample - loss: 0.3857 - val_loss: 12.3795\n",
      "Epoch 34/100\n",
      "10000/10000 [==============================] - 0s 40us/sample - loss: 0.4188 - val_loss: 12.6147\n",
      "Epoch 35/100\n",
      "10000/10000 [==============================] - 0s 40us/sample - loss: 0.4037 - val_loss: 12.4826\n",
      "Epoch 36/100\n",
      "10000/10000 [==============================] - 0s 39us/sample - loss: 0.3676 - val_loss: 12.6107\n",
      "Epoch 37/100\n",
      "10000/10000 [==============================] - 0s 39us/sample - loss: 0.3337 - val_loss: 12.0284\n",
      "Epoch 38/100\n",
      "10000/10000 [==============================] - 0s 40us/sample - loss: 0.3056 - val_loss: 12.5880\n",
      "Epoch 39/100\n",
      "10000/10000 [==============================] - 0s 40us/sample - loss: 0.3058 - val_loss: 12.5367\n",
      "Epoch 40/100\n",
      "10000/10000 [==============================] - 0s 40us/sample - loss: 0.3195 - val_loss: 12.3663\n",
      "Epoch 41/100\n",
      "10000/10000 [==============================] - 0s 44us/sample - loss: 0.3033 - val_loss: 12.1878\n",
      "Epoch 42/100\n",
      "10000/10000 [==============================] - 0s 41us/sample - loss: 0.3167 - val_loss: 12.0687\n",
      "Epoch 43/100\n",
      "10000/10000 [==============================] - 0s 40us/sample - loss: 0.3286 - val_loss: 12.2522\n",
      "Epoch 44/100\n",
      "10000/10000 [==============================] - 0s 40us/sample - loss: 0.3247 - val_loss: 12.2300\n",
      "Epoch 45/100\n",
      "10000/10000 [==============================] - 0s 39us/sample - loss: 0.3190 - val_loss: 12.3915\n",
      "Epoch 46/100\n",
      "10000/10000 [==============================] - 0s 40us/sample - loss: 0.3035 - val_loss: 12.4646\n",
      "Epoch 47/100\n",
      "10000/10000 [==============================] - 0s 40us/sample - loss: 0.2725 - val_loss: 12.0986\n",
      "Epoch 48/100\n",
      "10000/10000 [==============================] - 0s 40us/sample - loss: 0.2469 - val_loss: 12.1274\n",
      "Epoch 49/100\n",
      "10000/10000 [==============================] - 0s 39us/sample - loss: 0.2474 - val_loss: 11.7479\n",
      "Epoch 50/100\n",
      "10000/10000 [==============================] - 0s 40us/sample - loss: 0.2507 - val_loss: 12.1614\n",
      "Epoch 51/100\n",
      "10000/10000 [==============================] - 0s 40us/sample - loss: 0.2775 - val_loss: 11.7967\n",
      "Epoch 52/100\n",
      "10000/10000 [==============================] - 0s 40us/sample - loss: 0.2935 - val_loss: 12.0630\n",
      "Epoch 53/100\n",
      "10000/10000 [==============================] - 0s 39us/sample - loss: 0.2860 - val_loss: 12.0459\n",
      "Epoch 54/100\n",
      "10000/10000 [==============================] - 0s 40us/sample - loss: 0.2543 - val_loss: 11.8677\n",
      "Epoch 55/100\n",
      "10000/10000 [==============================] - 0s 40us/sample - loss: 0.2411 - val_loss: 11.8272\n",
      "Epoch 56/100\n",
      "10000/10000 [==============================] - 0s 40us/sample - loss: 0.2146 - val_loss: 11.6591\n",
      "Epoch 57/100\n",
      "10000/10000 [==============================] - 0s 42us/sample - loss: 0.2283 - val_loss: 12.1044\n",
      "Epoch 58/100\n",
      "10000/10000 [==============================] - 0s 41us/sample - loss: 0.2655 - val_loss: 11.7333\n",
      "Epoch 59/100\n",
      "10000/10000 [==============================] - 0s 45us/sample - loss: 0.2588 - val_loss: 11.9598\n",
      "Epoch 60/100\n",
      "10000/10000 [==============================] - 0s 42us/sample - loss: 0.2365 - val_loss: 11.8230\n",
      "Epoch 61/100\n",
      "10000/10000 [==============================] - 0s 40us/sample - loss: 0.2248 - val_loss: 11.8844\n",
      "Epoch 62/100\n",
      "10000/10000 [==============================] - 0s 42us/sample - loss: 0.2031 - val_loss: 11.8505\n",
      "Epoch 63/100\n",
      "10000/10000 [==============================] - 0s 41us/sample - loss: 0.2057 - val_loss: 11.7072\n",
      "Epoch 64/100\n",
      "10000/10000 [==============================] - 0s 40us/sample - loss: 0.2123 - val_loss: 11.7313\n",
      "Epoch 65/100\n",
      "10000/10000 [==============================] - 0s 41us/sample - loss: 0.2313 - val_loss: 11.7450\n",
      "Epoch 66/100\n",
      "10000/10000 [==============================] - 0s 40us/sample - loss: 0.2238 - val_loss: 11.5619\n",
      "Epoch 67/100\n",
      "10000/10000 [==============================] - 0s 40us/sample - loss: 0.2082 - val_loss: 11.8258\n",
      "Epoch 68/100\n",
      "10000/10000 [==============================] - 0s 42us/sample - loss: 0.2087 - val_loss: 11.7325\n",
      "Epoch 69/100\n",
      "10000/10000 [==============================] - 0s 40us/sample - loss: 0.2051 - val_loss: 11.5642\n",
      "Epoch 70/100\n",
      "10000/10000 [==============================] - 0s 41us/sample - loss: 0.2295 - val_loss: 11.9467\n",
      "Epoch 71/100\n",
      "10000/10000 [==============================] - 0s 40us/sample - loss: 0.2152 - val_loss: 11.7775\n",
      "Epoch 72/100\n",
      "10000/10000 [==============================] - 0s 40us/sample - loss: 0.1922 - val_loss: 11.7356\n",
      "Epoch 73/100\n",
      "10000/10000 [==============================] - 0s 40us/sample - loss: 0.1835 - val_loss: 11.7813\n",
      "Epoch 74/100\n",
      "10000/10000 [==============================] - 0s 40us/sample - loss: 0.1888 - val_loss: 11.9074\n",
      "Epoch 75/100\n"
     ]
    },
    {
     "name": "stdout",
     "output_type": "stream",
     "text": [
      "10000/10000 [==============================] - 0s 40us/sample - loss: 0.1796 - val_loss: 11.6830\n",
      "Epoch 76/100\n",
      "10000/10000 [==============================] - 0s 41us/sample - loss: 0.1693 - val_loss: 11.4318\n",
      "Epoch 77/100\n",
      "10000/10000 [==============================] - 0s 40us/sample - loss: 0.1824 - val_loss: 11.9384\n",
      "Epoch 78/100\n",
      "10000/10000 [==============================] - 0s 40us/sample - loss: 0.2008 - val_loss: 11.5264\n",
      "Epoch 79/100\n",
      "10000/10000 [==============================] - 0s 40us/sample - loss: 0.2016 - val_loss: 11.6195\n",
      "Epoch 80/100\n",
      "10000/10000 [==============================] - 0s 40us/sample - loss: 0.1817 - val_loss: 11.8036\n",
      "Epoch 81/100\n",
      "10000/10000 [==============================] - 0s 40us/sample - loss: 0.1752 - val_loss: 11.4813\n",
      "Epoch 82/100\n",
      "10000/10000 [==============================] - 0s 40us/sample - loss: 0.1748 - val_loss: 11.9574\n",
      "Epoch 83/100\n",
      "10000/10000 [==============================] - 0s 41us/sample - loss: 0.1683 - val_loss: 11.6316\n",
      "Epoch 84/100\n",
      "10000/10000 [==============================] - 0s 40us/sample - loss: 0.1627 - val_loss: 12.2661\n",
      "Epoch 85/100\n",
      "10000/10000 [==============================] - 0s 41us/sample - loss: 0.1799 - val_loss: 11.7463\n",
      "Epoch 86/100\n",
      "10000/10000 [==============================] - 0s 41us/sample - loss: 0.1926 - val_loss: 11.7215\n",
      "Epoch 87/100\n",
      "10000/10000 [==============================] - 0s 43us/sample - loss: 0.1736 - val_loss: 11.7085\n",
      "Epoch 88/100\n",
      "10000/10000 [==============================] - 0s 44us/sample - loss: 0.1474 - val_loss: 11.8200\n",
      "Epoch 89/100\n",
      "10000/10000 [==============================] - 0s 41us/sample - loss: 0.1335 - val_loss: 11.7124\n",
      "Epoch 90/100\n",
      "10000/10000 [==============================] - 0s 41us/sample - loss: 0.1273 - val_loss: 11.5818\n",
      "Epoch 91/100\n",
      "10000/10000 [==============================] - 0s 42us/sample - loss: 0.1501 - val_loss: 11.4871\n",
      "Epoch 92/100\n",
      "10000/10000 [==============================] - 0s 40us/sample - loss: 0.1729 - val_loss: 11.6614\n",
      "Epoch 93/100\n",
      "10000/10000 [==============================] - 0s 40us/sample - loss: 0.1664 - val_loss: 11.6629\n",
      "Epoch 94/100\n",
      "10000/10000 [==============================] - 0s 40us/sample - loss: 0.1541 - val_loss: 11.6149\n",
      "Epoch 95/100\n",
      "10000/10000 [==============================] - 0s 40us/sample - loss: 0.1445 - val_loss: 11.4904\n",
      "Epoch 96/100\n",
      "10000/10000 [==============================] - 0s 41us/sample - loss: 0.1489 - val_loss: 11.5362\n",
      "Epoch 97/100\n",
      "10000/10000 [==============================] - 0s 41us/sample - loss: 0.1535 - val_loss: 11.5237\n",
      "Epoch 98/100\n",
      "10000/10000 [==============================] - 0s 41us/sample - loss: 0.1578 - val_loss: 11.5377\n",
      "Epoch 99/100\n",
      "10000/10000 [==============================] - 0s 41us/sample - loss: 0.1597 - val_loss: 11.6541\n",
      "Epoch 100/100\n",
      "10000/10000 [==============================] - 0s 40us/sample - loss: 0.1449 - val_loss: 11.7873\n"
     ]
    },
    {
     "data": {
      "text/plain": [
       "<tensorflow.python.keras.callbacks.History at 0x149727e50>"
      ]
     },
     "execution_count": 32,
     "metadata": {},
     "output_type": "execute_result"
    }
   ],
   "source": [
    "model.fit(x_train, y_train, epochs=100, validation_data=(x_test, y_test))"
   ]
  },
  {
   "cell_type": "code",
   "execution_count": 33,
   "metadata": {},
   "outputs": [
    {
     "data": {
      "text/plain": [
       "160"
      ]
     },
     "execution_count": 33,
     "metadata": {},
     "output_type": "execute_result"
    }
   ],
   "source": [
    "np.sum(model.predict(x_test).astype(int).squeeze() == y_test)"
   ]
  },
  {
   "cell_type": "code",
   "execution_count": null,
   "metadata": {},
   "outputs": [],
   "source": [
    "a = np.random.uniform(size=(5, 3))\n",
    "b = np.random.uniform(5)\n",
    "c = np.random.uniform(5)\n",
    "\n",
    "np.logical_or(a<b, a<c )"
   ]
  },
  {
   "cell_type": "code",
   "execution_count": null,
   "metadata": {},
   "outputs": [],
   "source": [
    "np.any(a, axis=1)"
   ]
  },
  {
   "cell_type": "code",
   "execution_count": null,
   "metadata": {},
   "outputs": [],
   "source": [
    "a"
   ]
  },
  {
   "cell_type": "code",
   "execution_count": null,
   "metadata": {},
   "outputs": [],
   "source": [
    "b = np.stack([a, a], axis=0)"
   ]
  },
  {
   "cell_type": "code",
   "execution_count": null,
   "metadata": {},
   "outputs": [],
   "source": [
    "b.shape"
   ]
  },
  {
   "cell_type": "code",
   "execution_count": null,
   "metadata": {},
   "outputs": [],
   "source": []
  }
 ],
 "metadata": {
  "kernelspec": {
   "display_name": "Python 3",
   "language": "python",
   "name": "python3"
  },
  "language_info": {
   "codemirror_mode": {
    "name": "ipython",
    "version": 3
   },
   "file_extension": ".py",
   "mimetype": "text/x-python",
   "name": "python",
   "nbconvert_exporter": "python",
   "pygments_lexer": "ipython3",
   "version": "3.7.4"
  }
 },
 "nbformat": 4,
 "nbformat_minor": 2
}
