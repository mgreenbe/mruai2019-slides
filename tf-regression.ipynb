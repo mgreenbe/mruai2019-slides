{
 "cells": [
  {
   "cell_type": "code",
   "execution_count": 210,
   "metadata": {},
   "outputs": [],
   "source": [
    "import tensorflow as tf\n",
    "from matplotlib import pyplot as plt\n",
    "import numpy as np"
   ]
  },
  {
   "cell_type": "code",
   "execution_count": 2,
   "metadata": {},
   "outputs": [
    {
     "data": {
      "text/plain": [
       "'2.0.0-rc2'"
      ]
     },
     "execution_count": 2,
     "metadata": {},
     "output_type": "execute_result"
    }
   ],
   "source": [
    "tf.version.VERSION"
   ]
  },
  {
   "cell_type": "code",
   "execution_count": 12,
   "metadata": {},
   "outputs": [],
   "source": [
    "c = tf.constant(3.)\n",
    "x = tf.Variable(5.)"
   ]
  },
  {
   "cell_type": "code",
   "execution_count": 17,
   "metadata": {},
   "outputs": [],
   "source": [
    "with tf.GradientTape() as t:\n",
    "    y = tf.sigmoid(c*x)\n",
    "    dy_dx = t.gradient(y, x)\n"
   ]
  },
  {
   "cell_type": "code",
   "execution_count": 112,
   "metadata": {},
   "outputs": [],
   "source": []
  },
  {
   "cell_type": "code",
   "execution_count": 113,
   "metadata": {},
   "outputs": [
    {
     "data": {
      "text/plain": [
       "[<matplotlib.lines.Line2D at 0x14b1b3e90>]"
      ]
     },
     "execution_count": 113,
     "metadata": {},
     "output_type": "execute_result"
    },
    {
     "data": {
      "image/png": "[encoded data removed]",
      "text/plain": [
       "<Figure size 432x288 with 1 Axes>"
      ]
     },
     "metadata": {
      "needs_background": "light"
     },
     "output_type": "display_data"
    }
   ],
   "source": [
    "plt.plot(x.numpy(), y.numpy(), 'ro')"
   ]
  },
  {
   "cell_type": "code",
   "execution_count": 187,
   "metadata": {},
   "outputs": [
    {
     "name": "stdout",
     "output_type": "stream",
     "text": [
      "-0.20183003 0.3922699\n",
      "-0.20180991 0.39223003\n",
      "tf.Tensor(-0.25, shape=(), dtype=float32) tf.Tensor(0.5, shape=(), dtype=float32)\n"
     ]
    }
   ],
   "source": [
    "a_true = tf.constant(-0.25) # intercept\n",
    "b_true = tf.constant(0.5)   # slope\n",
    "\n",
    "x = tf.random.uniform((96,))\n",
    "e = tf.random.normal((96,), 0, 0.1)\n",
    "y = a_true + b_true*x + e\n",
    "\n",
    "a = tf.Variable(0.)\n",
    "b = tf.Variable(tf.random.uniform(()))\n",
    "lr = tf.constant(0.5)\n",
    "\n",
    "for epoch in range(100): # training loop!\n",
    "    with tf.GradientTape() as t:\n",
    "        E = tf.reduce_mean((a + b*x - y)**2)\n",
    "        [dE_da, dE_db] = t.gradient(E, [a, b])\n",
    "        a.assign_sub(lr*dE_da) # a -= \n",
    "        b.assign_sub(lr*dE_db)\n",
    "\n",
    "print(a.numpy(), b.numpy())\n",
    "\n",
    "X = np.stack([x.numpy()**0, x.numpy()], axis=1)\n",
    "Y = y.numpy()\n",
    "(a_hat, b_hat), _, __, ___ = np.linalg.lstsq(X, Y, rcond=-1)\n",
    "print(a_hat, b_hat)\n",
    "print(a_true, b_true)"
   ]
  },
  {
   "cell_type": "code",
   "execution_count": 261,
   "metadata": {},
   "outputs": [
    {
     "name": "stdout",
     "output_type": "stream",
     "text": [
      "tf.Tensor([0. 1. 2.], shape=(3,), dtype=float32) tf.Tensor([7. 8. 9.], shape=(3,), dtype=float32)\n",
      "tf.Tensor([3. 4. 5.], shape=(3,), dtype=float32) tf.Tensor([10. 11. 12.], shape=(3,), dtype=float32)\n",
      "tf.Tensor([6. 0. 1.], shape=(3,), dtype=float32) tf.Tensor([13.  7.  8.], shape=(3,), dtype=float32)\n",
      "tf.Tensor([2. 3. 4.], shape=(3,), dtype=float32) tf.Tensor([ 9. 10. 11.], shape=(3,), dtype=float32)\n",
      "tf.Tensor([5. 6.], shape=(2,), dtype=float32) tf.Tensor([12. 13.], shape=(2,), dtype=float32)\n"
     ]
    }
   ],
   "source": [
    "dataset = tf.data.Dataset.from_tensor_slices\n",
    "x = tf.constant([0., 1., 2., 3., 4., 5., 6.])\n",
    "y = tf.constant([7., 8., 9., 10., 11., 12., 13.])\n",
    "D = dataset((x, y))\n",
    "\n",
    "for a, b in D.repeat(2).batch(3):\n",
    "    print(a, b)"
   ]
  },
  {
   "cell_type": "code",
   "execution_count": 262,
   "metadata": {},
   "outputs": [
    {
     "name": "stdout",
     "output_type": "stream",
     "text": [
      "tf.Tensor([0. 1. 2.], shape=(3,), dtype=float32) tf.Tensor([7. 8. 9.], shape=(3,), dtype=float32)\n",
      "tf.Tensor([3. 4. 5.], shape=(3,), dtype=float32) tf.Tensor([10. 11. 12.], shape=(3,), dtype=float32)\n",
      "tf.Tensor([6.], shape=(1,), dtype=float32) tf.Tensor([13.], shape=(1,), dtype=float32)\n",
      "tf.Tensor([0. 1. 2.], shape=(3,), dtype=float32) tf.Tensor([7. 8. 9.], shape=(3,), dtype=float32)\n",
      "tf.Tensor([3. 4. 5.], shape=(3,), dtype=float32) tf.Tensor([10. 11. 12.], shape=(3,), dtype=float32)\n",
      "tf.Tensor([6.], shape=(1,), dtype=float32) tf.Tensor([13.], shape=(1,), dtype=float32)\n"
     ]
    }
   ],
   "source": [
    "for a, b in D.batch(3).repeat(2):\n",
    "    print(a, b)"
   ]
  },
  {
   "cell_type": "code",
   "execution_count": 259,
   "metadata": {},
   "outputs": [
    {
     "name": "stdout",
     "output_type": "stream",
     "text": [
      "tf.Tensor([0. 1. 2.], shape=(3,), dtype=float32) tf.Tensor([6. 7. 8.], shape=(3,), dtype=float32)\n",
      "tf.Tensor([3. 4. 5.], shape=(3,), dtype=float32) tf.Tensor([ 9. 10. 11.], shape=(3,), dtype=float32)\n",
      "tf.Tensor([0. 1. 2.], shape=(3,), dtype=float32) tf.Tensor([6. 7. 8.], shape=(3,), dtype=float32)\n",
      "tf.Tensor([3. 4. 5.], shape=(3,), dtype=float32) tf.Tensor([ 9. 10. 11.], shape=(3,), dtype=float32)\n"
     ]
    }
   ],
   "source": [
    "for a, b in D.batch(3).repeat(2):\n",
    "    print(a, b)"
   ]
  },
  {
   "cell_type": "code",
   "execution_count": 280,
   "metadata": {},
   "outputs": [
    {
     "name": "stdout",
     "output_type": "stream",
     "text": [
      "-0.23621197 0.43761775\n",
      "-0.25 0.5\n"
     ]
    }
   ],
   "source": [
    "a_true = tf.constant(-0.25) # true intercept\n",
    "b_true = tf.constant(0.5)   # true slope\n",
    "\n",
    "n = 96                      # number of data points\n",
    "x = tf.random.uniform((N,))\n",
    "e = tf.random.normal((N,), 0, 0.1) # errors in y\n",
    "y = a_true + b_true*x + e\n",
    "\n",
    "EPOCHS = 100 # number of traversals of the dataset\n",
    "BATCHES_PER_EPOCH = 3\n",
    "\n",
    "dataset = tf.data.Dataset.from_tensor_slices((x, y))\n",
    "\n",
    "a = tf.Variable(0.) # initial intercept estimate\n",
    "b = tf.Variable(tf.random.uniform(())) # initial slope estimate\n",
    "lr = tf.constant(0.25) # learning rate\n",
    "\n",
    "for x, y in dataset.shuffle(n) \\\n",
    "                   .repeat(EPOCHS) \\\n",
    "                   .batch(BATCHES_PER_EPOCH):\n",
    "    with tf.GradientTape() as t:\n",
    "        E = tf.reduce_mean((a + b*x - y)**2)\n",
    "        [dE_da, dE_db] = t.gradient(E, [a, b])\n",
    "        a.assign_sub(lr*dE_da) # a -= \n",
    "        b.assign_sub(lr*dE_db)\n",
    "\n",
    "print(a.numpy(), b.numpy())"
   ]
  },
  {
   "cell_type": "code",
   "execution_count": 282,
   "metadata": {},
   "outputs": [
    {
     "data": {
      "text/plain": [
       "tensorflow.python.data.ops.dataset_ops.TensorSliceDataset"
      ]
     },
     "execution_count": 282,
     "metadata": {},
     "output_type": "execute_result"
    }
   ],
   "source": [
    "dataset.__class__"
   ]
  },
  {
   "cell_type": "code",
   "execution_count": null,
   "metadata": {},
   "outputs": [],
   "source": []
  }
 ],
 "metadata": {
  "kernelspec": {
   "display_name": "Python 3",
   "language": "python",
   "name": "python3"
  },
  "language_info": {
   "codemirror_mode": {
    "name": "ipython",
    "version": 3
   },
   "file_extension": ".py",
   "mimetype": "text/x-python",
   "name": "python",
   "nbconvert_exporter": "python",
   "pygments_lexer": "ipython3",
   "version": "3.7.4"
  }
 },
 "nbformat": 4,
 "nbformat_minor": 2
}
